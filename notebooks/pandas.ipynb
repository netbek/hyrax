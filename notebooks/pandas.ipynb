{
 "cells": [
  {
   "cell_type": "code",
   "execution_count": 4,
   "metadata": {
    "scrolled": false
   },
   "outputs": [
    {
     "data": {
      "text/html": [
       "<div>\n",
       "<style scoped>\n",
       "    .dataframe tbody tr th:only-of-type {\n",
       "        vertical-align: middle;\n",
       "    }\n",
       "\n",
       "    .dataframe tbody tr th {\n",
       "        vertical-align: top;\n",
       "    }\n",
       "\n",
       "    .dataframe thead th {\n",
       "        text-align: right;\n",
       "    }\n",
       "</style>\n",
       "<table border=\"1\" class=\"dataframe\">\n",
       "  <thead>\n",
       "    <tr style=\"text-align: right;\">\n",
       "      <th></th>\n",
       "      <th></th>\n",
       "      <th>mastery</th>\n",
       "      <th>attempts</th>\n",
       "    </tr>\n",
       "    <tr>\n",
       "      <th>chapter_title</th>\n",
       "      <th>section_title</th>\n",
       "      <th></th>\n",
       "      <th></th>\n",
       "    </tr>\n",
       "  </thead>\n",
       "  <tbody>\n",
       "    <tr>\n",
       "      <th rowspan=\"4\" valign=\"top\">Ch 1</th>\n",
       "      <th></th>\n",
       "      <td>3.0</td>\n",
       "      <td>4</td>\n",
       "    </tr>\n",
       "    <tr>\n",
       "      <th>S 1.1</th>\n",
       "      <td>4.0</td>\n",
       "      <td>2</td>\n",
       "    </tr>\n",
       "    <tr>\n",
       "      <th>S 1.2</th>\n",
       "      <td>1.0</td>\n",
       "      <td>3</td>\n",
       "    </tr>\n",
       "    <tr>\n",
       "      <th>S 1.3</th>\n",
       "      <td>5.0</td>\n",
       "      <td>4</td>\n",
       "    </tr>\n",
       "    <tr>\n",
       "      <th rowspan=\"2\" valign=\"top\">Ch 2</th>\n",
       "      <th></th>\n",
       "      <td>2.0</td>\n",
       "      <td>4</td>\n",
       "    </tr>\n",
       "    <tr>\n",
       "      <th>S 2.1</th>\n",
       "      <td>2.0</td>\n",
       "      <td>3</td>\n",
       "    </tr>\n",
       "  </tbody>\n",
       "</table>\n",
       "</div>"
      ],
      "text/plain": [
       "                             mastery  attempts\n",
       "chapter_title section_title                   \n",
       "Ch 1                             3.0         4\n",
       "              S 1.1              4.0         2\n",
       "              S 1.2              1.0         3\n",
       "              S 1.3              5.0         4\n",
       "Ch 2                             2.0         4\n",
       "              S 2.1              2.0         3"
      ]
     },
     "execution_count": 4,
     "metadata": {},
     "output_type": "execute_result"
    }
   ],
   "source": [
    "import pandas as pd\n",
    "\n",
    "df = pd.DataFrame([\n",
    "    ('Ch 1', 'S 1.1', 3.0, 4.0, 4, 2),\n",
    "    ('Ch 1', 'S 1.2', 3.0, 1.0, 4, 3),\n",
    "    ('Ch 1', 'S 1.3', 3.0, 5.0, 4, 4),\n",
    "    ('Ch 2', 'S 2.1', 2.0, 2.0, 4, 3),\n",
    "], columns=['chapter_title', 'section_title', 'chapter_mastery', 'section_mastery', 'chapter_attempts', 'section_attempts'])\n",
    "\n",
    "chapter_df = df.loc[:, ['chapter_title', 'section_title', 'chapter_mastery', 'chapter_attempts']]\n",
    "chapter_df = chapter_df.rename(columns={'chapter_mastery': 'mastery', 'chapter_attempts': 'attempts'})\n",
    "chapter_df = chapter_df.groupby('chapter_title').first().reset_index()\n",
    "chapter_df.loc[:, 'section_title'] = ''\n",
    "\n",
    "rows = []\n",
    "for name, group in df.groupby(['chapter_title']):\n",
    "    idx = chapter_df.chapter_title.eq(name).idxmax()   \n",
    "    rows.append(chapter_df.iloc[idx].values.tolist())\n",
    "    rows.extend(group.loc[:, ['chapter_title', 'section_title', 'section_mastery', 'section_attempts']].values.tolist())\n",
    "\n",
    "book_df = pd.DataFrame(rows, columns=['chapter_title', 'section_title', 'mastery', 'attempts'])\n",
    "book_df = book_df.set_index(['chapter_title', 'section_title'])\n",
    "book_df"
   ]
  }
 ],
 "metadata": {
  "jupytext": {
   "text_representation": {
    "extension": ".md",
    "format_name": "markdown",
    "format_version": "1.0",
    "jupytext_version": "0.8.5"
   }
  },
  "kernelspec": {
   "display_name": "Python 2",
   "language": "python",
   "name": "python2"
  },
  "language_info": {
   "codemirror_mode": {
    "name": "ipython",
    "version": 2
   },
   "file_extension": ".py",
   "mimetype": "text/x-python",
   "name": "python",
   "nbconvert_exporter": "python",
   "pygments_lexer": "ipython2",
   "version": "2.7.12"
  }
 },
 "nbformat": 4,
 "nbformat_minor": 2
}
